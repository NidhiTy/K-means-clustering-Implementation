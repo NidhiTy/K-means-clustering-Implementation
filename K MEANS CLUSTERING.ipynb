{
 "cells": [
  {
   "cell_type": "code",
   "execution_count": 60,
   "metadata": {},
   "outputs": [],
   "source": [
    "import pandas as pd\n",
    "import numpy as np\n",
    "import matplotlib.pyplot as plt"
   ]
  },
  {
   "cell_type": "code",
   "execution_count": 12,
   "metadata": {},
   "outputs": [
    {
     "name": "stderr",
     "output_type": "stream",
     "text": [
      "C:\\Users\\459880\\Anaconda3\\lib\\site-packages\\sklearn\\utils\\deprecation.py:144: FutureWarning: The sklearn.datasets.samples_generator module is  deprecated in version 0.22 and will be removed in version 0.24. The corresponding classes / functions should instead be imported from sklearn.datasets. Anything that cannot be imported from sklearn.datasets is now part of the private API.\n",
      "  warnings.warn(message, FutureWarning)\n"
     ]
    }
   ],
   "source": [
    "# Imports\n",
    "from sklearn.datasets.samples_generator import make_blobs"
   ]
  },
  {
   "cell_type": "code",
   "execution_count": 28,
   "metadata": {
    "scrolled": false
   },
   "outputs": [
    {
     "data": {
      "text/plain": [
       "array([[ 2.20438661,  1.56085661],\n",
       "       [-1.13374003,  2.68467271],\n",
       "       [ 1.06498315,  4.10289686],\n",
       "       [-2.37603789,  7.32420659],\n",
       "       [ 1.68289011,  0.48444439],\n",
       "       [ 0.98152009,  5.19672257],\n",
       "       [-1.6823471 ,  2.96658234],\n",
       "       [ 0.5323772 ,  3.31338909],\n",
       "       [ 1.59141542,  4.90497725],\n",
       "       [ 1.34081536,  4.36827878],\n",
       "       [ 0.65910903,  4.12241674]])"
      ]
     },
     "execution_count": 28,
     "metadata": {},
     "output_type": "execute_result"
    }
   ],
   "source": [
    "# Generate 2D data points\n",
    "X, _ = make_blobs(n_samples=200, centers=4, n_features=2,\n",
    "                 cluster_std=0.5,  random_state=0)\n",
    "X[:11]"
   ]
  },
  {
   "cell_type": "code",
   "execution_count": 32,
   "metadata": {},
   "outputs": [
    {
     "name": "stdout",
     "output_type": "stream",
     "text": [
      "shape of X is 200\n"
     ]
    }
   ],
   "source": [
    "print(f'shape of X is {len(X)}')"
   ]
  },
  {
   "cell_type": "code",
   "execution_count": 33,
   "metadata": {},
   "outputs": [],
   "source": [
    "obj_names = [f'Obj_{i}' for i in range(len(X))]"
   ]
  },
  {
   "cell_type": "code",
   "execution_count": 44,
   "metadata": {},
   "outputs": [
    {
     "data": {
      "text/html": [
       "<div>\n",
       "<style scoped>\n",
       "    .dataframe tbody tr th:only-of-type {\n",
       "        vertical-align: middle;\n",
       "    }\n",
       "\n",
       "    .dataframe tbody tr th {\n",
       "        vertical-align: top;\n",
       "    }\n",
       "\n",
       "    .dataframe thead th {\n",
       "        text-align: right;\n",
       "    }\n",
       "</style>\n",
       "<table border=\"1\" class=\"dataframe\">\n",
       "  <thead>\n",
       "    <tr style=\"text-align: right;\">\n",
       "      <th></th>\n",
       "      <th>Object</th>\n",
       "      <th>X1_value</th>\n",
       "      <th>X2_value</th>\n",
       "    </tr>\n",
       "  </thead>\n",
       "  <tbody>\n",
       "    <tr>\n",
       "      <th>0</th>\n",
       "      <td>Obj_0</td>\n",
       "      <td>2.204387</td>\n",
       "      <td>1.560857</td>\n",
       "    </tr>\n",
       "    <tr>\n",
       "      <th>1</th>\n",
       "      <td>Obj_1</td>\n",
       "      <td>-1.133740</td>\n",
       "      <td>2.684673</td>\n",
       "    </tr>\n",
       "    <tr>\n",
       "      <th>2</th>\n",
       "      <td>Obj_2</td>\n",
       "      <td>1.064983</td>\n",
       "      <td>4.102897</td>\n",
       "    </tr>\n",
       "    <tr>\n",
       "      <th>3</th>\n",
       "      <td>Obj_3</td>\n",
       "      <td>-2.376038</td>\n",
       "      <td>7.324207</td>\n",
       "    </tr>\n",
       "    <tr>\n",
       "      <th>4</th>\n",
       "      <td>Obj_4</td>\n",
       "      <td>1.682890</td>\n",
       "      <td>0.484444</td>\n",
       "    </tr>\n",
       "  </tbody>\n",
       "</table>\n",
       "</div>"
      ],
      "text/plain": [
       "  Object  X1_value  X2_value\n",
       "0  Obj_0  2.204387  1.560857\n",
       "1  Obj_1 -1.133740  2.684673\n",
       "2  Obj_2  1.064983  4.102897\n",
       "3  Obj_3 -2.376038  7.324207\n",
       "4  Obj_4  1.682890  0.484444"
      ]
     },
     "execution_count": 44,
     "metadata": {},
     "output_type": "execute_result"
    }
   ],
   "source": [
    "import pandas as pd\n",
    "# Create a pandas DataFrame with the names and (x, y) coordinates\n",
    "df = pd.DataFrame({'Object': obj_names,'X1_value': X[:, 0],'X2_value': X[:, -1]})\n",
    "df.head()"
   ]
  },
  {
   "cell_type": "code",
   "execution_count": 45,
   "metadata": {},
   "outputs": [],
   "source": [
    "from sklearn.cluster import KMeans\n",
    "from matplotlib import pyplot as plt"
   ]
  },
  {
   "cell_type": "code",
   "execution_count": 46,
   "metadata": {},
   "outputs": [],
   "source": [
    "distortions = []\n",
    "K = range(1,10)\n",
    "for k in K:\n",
    "    kmeanModel = KMeans(n_clusters=k)\n",
    "    kmeanModel.fit(df[['X1_value','X2_value']])\n",
    "    distortions.append(kmeanModel.inertia_)\n",
    "#inertia_float\n",
    "#Sum of squared distances of samples to their closest cluster center."
   ]
  },
  {
   "cell_type": "code",
   "execution_count": 52,
   "metadata": {},
   "outputs": [],
   "source": [
    "#kmeanModel."
   ]
  },
  {
   "cell_type": "code",
   "execution_count": 51,
   "metadata": {},
   "outputs": [],
   "source": [
    "#help(kmeanModel.inertia_)"
   ]
  },
  {
   "cell_type": "code",
   "execution_count": 49,
   "metadata": {},
   "outputs": [
    {
     "data": {
      "image/png": "[encoded data removed]",
      "text/plain": [
       "<Figure size 432x432 with 1 Axes>"
      ]
     },
     "metadata": {
      "needs_background": "light"
     },
     "output_type": "display_data"
    }
   ],
   "source": [
    "#Elbow curve use to find out the optimal value of k(no. of clusters)\n",
    "plt.figure(figsize=(6,6))\n",
    "plt.plot(K, distortions, 'bx-')\n",
    "plt.xlabel('k')\n",
    "plt.ylabel('Distortion')\n",
    "plt.title('The Elbow Method showing the optimal k')\n",
    "plt.show()"
   ]
  },
  {
   "cell_type": "code",
   "execution_count": 71,
   "metadata": {},
   "outputs": [
    {
     "data": {
      "text/plain": [
       "KMeans(algorithm='auto', copy_x=True, init='k-means++', max_iter=300,\n",
       "       n_clusters=4, n_init=10, n_jobs=None, precompute_distances='auto',\n",
       "       random_state=None, tol=0.0001, verbose=0)"
      ]
     },
     "execution_count": 71,
     "metadata": {},
     "output_type": "execute_result"
    }
   ],
   "source": [
    "kmns = KMeans(n_clusters=4)\n",
    "kmns.fit(df[['X1_value','X2_value']])"
   ]
  },
  {
   "cell_type": "code",
   "execution_count": 99,
   "metadata": {},
   "outputs": [
    {
     "data": {
      "text/plain": [
       "array([0, 2, 3, 1, 0, 3, 2, 3, 3, 3, 3, 0, 2, 2, 0, 3, 1, 1, 1, 0, 1, 2,\n",
       "       0, 2, 0, 0, 1, 0, 0, 3, 1, 3, 2, 0, 2, 3, 2, 3, 3, 1, 1, 1, 1, 3,\n",
       "       0, 2, 3, 1, 1, 3, 1, 2, 2, 1, 3, 1, 2, 0, 3, 0, 1, 3, 0, 3, 1, 3,\n",
       "       0, 1, 2, 2, 0, 0, 3, 3, 2, 1, 2, 2, 0, 0, 1, 3, 0, 2, 2, 3, 3, 0,\n",
       "       2, 2, 1, 1, 1, 3, 3, 0, 2, 1, 3, 3, 1, 0, 0, 1, 1, 2, 3, 0, 0, 3,\n",
       "       1, 2, 2, 0, 0, 3, 2, 2, 1, 3, 1, 2, 3, 0, 3, 2, 3, 2, 0, 3, 2, 0,\n",
       "       2, 1, 1, 2, 1, 1, 0, 1, 0, 2, 0, 0, 2, 0, 3, 0, 2, 1, 1, 1, 3, 2,\n",
       "       0, 3, 1, 2, 1, 0, 1, 0, 0, 2, 2, 1, 3, 0, 0, 2, 0, 3, 2, 1, 1, 1,\n",
       "       3, 3, 2, 3, 2, 0, 3, 0, 3, 2, 2, 1, 3, 1, 0, 0, 3, 1, 2, 2, 2, 3,\n",
       "       1, 0])"
      ]
     },
     "execution_count": 99,
     "metadata": {},
     "output_type": "execute_result"
    }
   ],
   "source": [
    "# We are going to use the fit predict method that returns for each #observation which cluster it belongs to. The cluster to which #client belongs and it will return this cluster numbers into a #single vector that is  called y K-means\n",
    "y_kmeans = kmns.fit_predict(df[['X1_value','X2_value']])"
   ]
  },
  {
   "cell_type": "code",
   "execution_count": 101,
   "metadata": {},
   "outputs": [
    {
     "data": {
      "text/html": [
       "<div>\n",
       "<style scoped>\n",
       "    .dataframe tbody tr th:only-of-type {\n",
       "        vertical-align: middle;\n",
       "    }\n",
       "\n",
       "    .dataframe tbody tr th {\n",
       "        vertical-align: top;\n",
       "    }\n",
       "\n",
       "    .dataframe thead th {\n",
       "        text-align: right;\n",
       "    }\n",
       "</style>\n",
       "<table border=\"1\" class=\"dataframe\">\n",
       "  <thead>\n",
       "    <tr style=\"text-align: right;\">\n",
       "      <th></th>\n",
       "      <th>Object</th>\n",
       "      <th>X1_value</th>\n",
       "      <th>X2_value</th>\n",
       "      <th>clstr_nbr</th>\n",
       "    </tr>\n",
       "  </thead>\n",
       "  <tbody>\n",
       "    <tr>\n",
       "      <th>0</th>\n",
       "      <td>Obj_0</td>\n",
       "      <td>2.204387</td>\n",
       "      <td>1.560857</td>\n",
       "      <td>0</td>\n",
       "    </tr>\n",
       "    <tr>\n",
       "      <th>1</th>\n",
       "      <td>Obj_1</td>\n",
       "      <td>-1.133740</td>\n",
       "      <td>2.684673</td>\n",
       "      <td>2</td>\n",
       "    </tr>\n",
       "    <tr>\n",
       "      <th>2</th>\n",
       "      <td>Obj_2</td>\n",
       "      <td>1.064983</td>\n",
       "      <td>4.102897</td>\n",
       "      <td>3</td>\n",
       "    </tr>\n",
       "    <tr>\n",
       "      <th>3</th>\n",
       "      <td>Obj_3</td>\n",
       "      <td>-2.376038</td>\n",
       "      <td>7.324207</td>\n",
       "      <td>1</td>\n",
       "    </tr>\n",
       "    <tr>\n",
       "      <th>4</th>\n",
       "      <td>Obj_4</td>\n",
       "      <td>1.682890</td>\n",
       "      <td>0.484444</td>\n",
       "      <td>0</td>\n",
       "    </tr>\n",
       "    <tr>\n",
       "      <th>5</th>\n",
       "      <td>Obj_5</td>\n",
       "      <td>0.981520</td>\n",
       "      <td>5.196723</td>\n",
       "      <td>3</td>\n",
       "    </tr>\n",
       "    <tr>\n",
       "      <th>6</th>\n",
       "      <td>Obj_6</td>\n",
       "      <td>-1.682347</td>\n",
       "      <td>2.966582</td>\n",
       "      <td>2</td>\n",
       "    </tr>\n",
       "    <tr>\n",
       "      <th>7</th>\n",
       "      <td>Obj_7</td>\n",
       "      <td>0.532377</td>\n",
       "      <td>3.313389</td>\n",
       "      <td>3</td>\n",
       "    </tr>\n",
       "    <tr>\n",
       "      <th>8</th>\n",
       "      <td>Obj_8</td>\n",
       "      <td>1.591415</td>\n",
       "      <td>4.904977</td>\n",
       "      <td>3</td>\n",
       "    </tr>\n",
       "    <tr>\n",
       "      <th>9</th>\n",
       "      <td>Obj_9</td>\n",
       "      <td>1.340815</td>\n",
       "      <td>4.368279</td>\n",
       "      <td>3</td>\n",
       "    </tr>\n",
       "  </tbody>\n",
       "</table>\n",
       "</div>"
      ],
      "text/plain": [
       "  Object  X1_value  X2_value  clstr_nbr\n",
       "0  Obj_0  2.204387  1.560857          0\n",
       "1  Obj_1 -1.133740  2.684673          2\n",
       "2  Obj_2  1.064983  4.102897          3\n",
       "3  Obj_3 -2.376038  7.324207          1\n",
       "4  Obj_4  1.682890  0.484444          0\n",
       "5  Obj_5  0.981520  5.196723          3\n",
       "6  Obj_6 -1.682347  2.966582          2\n",
       "7  Obj_7  0.532377  3.313389          3\n",
       "8  Obj_8  1.591415  4.904977          3\n",
       "9  Obj_9  1.340815  4.368279          3"
      ]
     },
     "execution_count": 101,
     "metadata": {},
     "output_type": "execute_result"
    }
   ],
   "source": [
    "df['clstr_nbr'] = y_kmeans\n",
    "df.head(10)"
   ]
  },
  {
   "cell_type": "code",
   "execution_count": 116,
   "metadata": {},
   "outputs": [],
   "source": [
    "import seaborn as sns\n",
    "sns.set_style('dark')"
   ]
  },
  {
   "cell_type": "code",
   "execution_count": 117,
   "metadata": {},
   "outputs": [],
   "source": [
    "colors=['red','blue','green','black']"
   ]
  },
  {
   "cell_type": "code",
   "execution_count": 118,
   "metadata": {},
   "outputs": [
    {
     "data": {
      "text/plain": [
       "<matplotlib.axes._subplots.AxesSubplot at 0x190720fd548>"
      ]
     },
     "execution_count": 118,
     "metadata": {},
     "output_type": "execute_result"
    },
    {
     "data": {
      "image/png": "[encoded data removed]",
      "text/plain": [
       "<Figure size 432x288 with 1 Axes>"
      ]
     },
     "metadata": {},
     "output_type": "display_data"
    }
   ],
   "source": [
    "sns.scatterplot(data = df, x = 'X1_value', y = 'X2_value', hue = 'clstr_nbr',palette = colors)"
   ]
  },
  {
   "cell_type": "code",
   "execution_count": 120,
   "metadata": {},
   "outputs": [
    {
     "data": {
      "text/plain": [
       "{'algorithm': 'auto',\n",
       " 'copy_x': True,\n",
       " 'init': 'k-means++',\n",
       " 'max_iter': 300,\n",
       " 'n_clusters': 4,\n",
       " 'n_init': 10,\n",
       " 'n_jobs': None,\n",
       " 'precompute_distances': 'auto',\n",
       " 'random_state': None,\n",
       " 'tol': 0.0001,\n",
       " 'verbose': 0}"
      ]
     },
     "execution_count": 120,
     "metadata": {},
     "output_type": "execute_result"
    }
   ],
   "source": [
    "kmns.get_params()"
   ]
  },
  {
   "cell_type": "code",
   "execution_count": null,
   "metadata": {},
   "outputs": [],
   "source": []
  }
 ],
 "metadata": {
  "kernelspec": {
   "display_name": "Python 3",
   "language": "python",
   "name": "python3"
  },
  "language_info": {
   "codemirror_mode": {
    "name": "ipython",
    "version": 3
   },
   "file_extension": ".py",
   "mimetype": "text/x-python",
   "name": "python",
   "nbconvert_exporter": "python",
   "pygments_lexer": "ipython3",
   "version": "3.7.6"
  }
 },
 "nbformat": 4,
 "nbformat_minor": 4
}
